{
 "cells": [
  {
   "cell_type": "code",
   "execution_count": 1,
   "metadata": {},
   "outputs": [],
   "source": [
    "import numpy as np"
   ]
  },
  {
   "cell_type": "code",
   "execution_count": null,
   "metadata": {},
   "outputs": [],
   "source": [
    "# import pretrained model for transfer learning\n",
    "\n",
    "from transformers import DetrImageProcessor, DetrForObjectDetection\n",
    "import torch\n",
    "from PIL import Image\n",
    "# import cv2\n",
    "\n",
    "\n",
    "processor = DetrImageProcessor.from_pretrained(\"facebook/detr-resnet-50\")\n",
    "model = DetrForObjectDetection.from_pretrained(\"facebook/detr-resnet-50\")\n"
   ]
  },
  {
   "cell_type": "code",
   "execution_count": 21,
   "metadata": {},
   "outputs": [
    {
     "name": "stdout",
     "output_type": "stream",
     "text": [
      "error <_io.TextIOWrapper name='TRAINING/Capture10.json' mode='r' encoding='UTF-8'>\n",
      "error <_io.TextIOWrapper name='TRAINING/Capture9.json' mode='r' encoding='UTF-8'>\n"
     ]
    }
   ],
   "source": [
    "# import json reader\n",
    "import json\n",
    "import os\n",
    "boxes = []\n",
    "# open the file:\n",
    "for f in os.listdir('TRAINING'):\n",
    "    if f.endswith(\".json\"):\n",
    "        with open('TRAINING/'+f) as f:\n",
    "            data = json.load(f)\n",
    "            try:\n",
    "                boxes.append(data[\"shapes\"][1][\"points\"])\n",
    "            except:\n",
    "                print(\"error\", f)"
   ]
  },
  {
   "cell_type": "code",
   "execution_count": 6,
   "metadata": {},
   "outputs": [
    {
     "name": "stdout",
     "output_type": "stream",
     "text": [
      "Detected fire hydrant with confidence 0.621 at location [734.42, 3.95, 1110.76, 471.46]\n",
      "Detected parking meter with confidence 0.145 at location [751.08, 0.44, 1116.11, 81.1]\n"
     ]
    }
   ],
   "source": [
    "\n",
    "url = \"./TRAINING/Capture.PNG\"\n",
    "image = Image.open(url).convert(\"RGB\")\n",
    "\n",
    "inputs = processor(images=image, return_tensors=\"pt\")\n",
    "outputs = model(**inputs)\n",
    "\n",
    "# convert outputs (bounding boxes and class logits) to COCO API\n",
    "# let's only keep detections with score > 0.9\n",
    "target_sizes = torch.tensor([image.size[::-1]])\n",
    "results = processor.post_process_object_detection(outputs, target_sizes=target_sizes, threshold=0.1)[0]\n",
    "\n",
    "for score, label, box in zip(results[\"scores\"], results[\"labels\"], results[\"boxes\"]):\n",
    "    box = [round(i, 2) for i in box.tolist()]\n",
    "    print(\n",
    "        f\"Detected {model.config.id2label[label.item()]} with confidence \"\n",
    "        f\"{round(score.item(), 3)} at location {box}\"\n",
    "    )\n"
   ]
  },
  {
   "cell_type": "code",
   "execution_count": 8,
   "metadata": {},
   "outputs": [
    {
     "data": {
      "text/plain": [
       "{'scores': tensor([0.6213, 0.1453], grad_fn=<IndexBackward0>),\n",
       " 'labels': tensor([11, 14]),\n",
       " 'boxes': tensor([[7.3442e+02, 3.9522e+00, 1.1108e+03, 4.7146e+02],\n",
       "         [7.5108e+02, 4.4197e-01, 1.1161e+03, 8.1104e+01]],\n",
       "        grad_fn=<IndexBackward0>)}"
      ]
     },
     "execution_count": 8,
     "metadata": {},
     "output_type": "execute_result"
    }
   ],
   "source": [
    "results"
   ]
  }
 ],
 "metadata": {
  "kernelspec": {
   "display_name": "base",
   "language": "python",
   "name": "python3"
  },
  "language_info": {
   "codemirror_mode": {
    "name": "ipython",
    "version": 3
   },
   "file_extension": ".py",
   "mimetype": "text/x-python",
   "name": "python",
   "nbconvert_exporter": "python",
   "pygments_lexer": "ipython3",
   "version": "3.9.13"
  },
  "orig_nbformat": 4
 },
 "nbformat": 4,
 "nbformat_minor": 2
}
